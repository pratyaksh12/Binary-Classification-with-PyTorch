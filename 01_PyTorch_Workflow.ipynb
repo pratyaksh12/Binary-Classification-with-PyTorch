{
  "nbformat": 4,
  "nbformat_minor": 0,
  "metadata": {
    "colab": {
      "provenance": [],
      "authorship_tag": "ABX9TyOsnYSP6cqDX3T4tSdxl1Sl",
      "include_colab_link": true
    },
    "kernelspec": {
      "name": "python3",
      "display_name": "Python 3"
    },
    "language_info": {
      "name": "python"
    }
  },
  "cells": [
    {
      "cell_type": "markdown",
      "metadata": {
        "id": "view-in-github",
        "colab_type": "text"
      },
      "source": [
        "<a href=\"https://colab.research.google.com/github/pratyaksh12/Binary-Classification-with-PyTorch/blob/main/01_PyTorch_Workflow.ipynb\" target=\"_parent\"><img src=\"https://colab.research.google.com/assets/colab-badge.svg\" alt=\"Open In Colab\"/></a>"
      ]
    },
    {
      "cell_type": "code",
      "execution_count": null,
      "metadata": {
        "colab": {
          "base_uri": "https://localhost:8080/"
        },
        "id": "fX5vZHEjmky9",
        "outputId": "b84f617c-a0cb-4b22-cd38-ea9d8d583a43"
      },
      "outputs": [
        {
          "output_type": "execute_result",
          "data": {
            "text/plain": [
              "{1: 'Data (prepare and load)',\n",
              " 2: 'Build model',\n",
              " 3: 'fitting the model to the data',\n",
              " 4: 'making predictions and evaluating the model(inference)',\n",
              " 5: 'saving and loading the model',\n",
              " 6: 'combining everything'}"
            ]
          },
          "metadata": {},
          "execution_count": 36
        }
      ],
      "source": [
        "What_to_cover = {\n",
        "    1: \"Data (prepare and load)\",\n",
        "    2: \"Build model\",\n",
        "    3: \"fitting the model to the data\",\n",
        "    4: \"making predictions and evaluating the model(inference)\",\n",
        "    5: \"saving and loading the model\",\n",
        "    6: \"combining everything\"\n",
        "}\n",
        "What_to_cover"
      ]
    },
    {
      "cell_type": "code",
      "source": [
        "import torch\n",
        "from torch import nn  ##contains all the building blocks for making a nn\n",
        "import matplotlib.pyplot as plt\n",
        "\n",
        "print(torch.__version__)"
      ],
      "metadata": {
        "colab": {
          "base_uri": "https://localhost:8080/"
        },
        "id": "VtLgrx75nYBF",
        "outputId": "3bb4f33e-1089-4744-8fa8-9220244f7092"
      },
      "execution_count": null,
      "outputs": [
        {
          "output_type": "stream",
          "name": "stdout",
          "text": [
            "2.5.1+cu121\n"
          ]
        }
      ]
    },
    {
      "cell_type": "markdown",
      "source": [
        "##Data Preparing and loading\n",
        "- data can be anything in machiine learning (pictures, dna, tables, text, sound, etc.)\n",
        "- Machine Learning is a game of two parts:\n",
        "  - Get data into numerical representation\n",
        "  - Build a model to learn a pattern in that numerical representation"
      ],
      "metadata": {
        "id": "puqhEnwHoN7l"
      }
    },
    {
      "cell_type": "markdown",
      "source": [
        "##creating some known data with linear regression\n",
        "using linear regression formula to make a parameter with known parameters"
      ],
      "metadata": {
        "id": "yGm1dQDKvIkS"
      }
    },
    {
      "cell_type": "code",
      "source": [
        "#creating known parameters\n",
        "\n",
        "weight = 0.7\n",
        "bias = 0.3\n",
        "\n",
        "#create\n",
        "start = 0\n",
        "end = 1\n",
        "step = 0.02\n",
        "X = torch.arange(start, end, step).unsqueeze(dim = 1)\n",
        "y = weight * X + bias\n",
        "print(X[:10])\n",
        "print('\\n')\n",
        "print(y[:10])\n",
        "\n"
      ],
      "metadata": {
        "colab": {
          "base_uri": "https://localhost:8080/"
        },
        "id": "bAYly_uUxhsU",
        "outputId": "399d2048-31e4-497e-c331-c124e82d34b7"
      },
      "execution_count": null,
      "outputs": [
        {
          "output_type": "stream",
          "name": "stdout",
          "text": [
            "tensor([[0.0000],\n",
            "        [0.0200],\n",
            "        [0.0400],\n",
            "        [0.0600],\n",
            "        [0.0800],\n",
            "        [0.1000],\n",
            "        [0.1200],\n",
            "        [0.1400],\n",
            "        [0.1600],\n",
            "        [0.1800]])\n",
            "\n",
            "\n",
            "tensor([[0.3000],\n",
            "        [0.3140],\n",
            "        [0.3280],\n",
            "        [0.3420],\n",
            "        [0.3560],\n",
            "        [0.3700],\n",
            "        [0.3840],\n",
            "        [0.3980],\n",
            "        [0.4120],\n",
            "        [0.4260]])\n"
          ]
        }
      ]
    },
    {
      "cell_type": "code",
      "source": [
        "len(X), len(y)"
      ],
      "metadata": {
        "colab": {
          "base_uri": "https://localhost:8080/"
        },
        "id": "TDaZpPJ0xy_Z",
        "outputId": "fc528117-2f36-4a7a-cb5d-d3aa96d26825"
      },
      "execution_count": null,
      "outputs": [
        {
          "output_type": "execute_result",
          "data": {
            "text/plain": [
              "(50, 50)"
            ]
          },
          "metadata": {},
          "execution_count": 39
        }
      ]
    },
    {
      "cell_type": "code",
      "source": [
        "train_split = int(0.8 * len(X))\n",
        "X_manual, y_manual = X[:train_split], y[:train_split]\n",
        "X_test_manual, y_test_manual = X[train_split:], y[train_split:]\n",
        "\n",
        "X_manual.size()"
      ],
      "metadata": {
        "colab": {
          "base_uri": "https://localhost:8080/"
        },
        "id": "nOrhHx3L3MDh",
        "outputId": "235c347a-e266-4551-d10b-23439a33e6b8"
      },
      "execution_count": null,
      "outputs": [
        {
          "output_type": "execute_result",
          "data": {
            "text/plain": [
              "torch.Size([40, 1])"
            ]
          },
          "metadata": {},
          "execution_count": 40
        }
      ]
    },
    {
      "cell_type": "markdown",
      "source": [
        "###Splitting data into training and tests one of the most important topic in machine learning"
      ],
      "metadata": {
        "id": "Qd16Xknay-Up"
      }
    },
    {
      "cell_type": "code",
      "source": [
        "#using skleran for splitting of data,  can be done manually as well\n",
        "from sklearn.model_selection import train_test_split\n",
        "\n",
        "x_arr = torch.Tensor.numpy(X)\n",
        "y_arr = torch.Tensor.numpy(y)\n",
        "\n",
        "x_train, x_test, y_train, y_test = train_test_split(x_arr, y_arr, test_size=0.2, random_state=42)\n",
        "X_train = torch.from_numpy(x_train)\n",
        "X_test = torch.from_numpy(x_test)\n",
        "y_train = torch.from_numpy(y_train)\n",
        "y_test = torch.from_numpy(y_test)"
      ],
      "metadata": {
        "id": "xmBkxHKYzsId"
      },
      "execution_count": null,
      "outputs": []
    },
    {
      "cell_type": "markdown",
      "source": [
        "##Visualisation of data\n",
        "visualise, visualise, visualise"
      ],
      "metadata": {
        "id": "YpgcrtQf2T_q"
      }
    },
    {
      "cell_type": "code",
      "source": [
        "def plot_predictions(train_data = X_train, train_label = y_train, test_data = X_test, test_label = y_test, predictions = None):\n",
        "  #plot training and test data\n",
        "  plt.figure(figsize = (10,7))\n",
        "  plt.scatter(train_data, train_label, c = 'b', s = 4, label = 'training data')\n",
        "  plt.scatter(test_data, test_label, c = 'g', s = 4, label = 'test data')\n",
        "\n",
        "  if predictions is not None:\n",
        "    plt.scatter(test_data, predictions, c = 'r', s = 4, label = 'predictions')\n",
        "\n",
        "  plt.legend(prop = {'size':14})"
      ],
      "metadata": {
        "id": "0cXbgGl94EN4"
      },
      "execution_count": null,
      "outputs": []
    },
    {
      "cell_type": "code",
      "source": [
        "plot_predictions()"
      ],
      "metadata": {
        "colab": {
          "base_uri": "https://localhost:8080/",
          "height": 599
        },
        "id": "nMwI3f1b5hsk",
        "outputId": "94011ae9-eaee-460c-e495-bffe737cefde"
      },
      "execution_count": null,
      "outputs": [
        {
          "output_type": "display_data",
          "data": {
            "text/plain": [
              "<Figure size 1000x700 with 1 Axes>"
            ],
            "image/png": "[encoded data removed]"
          },
          "metadata": {}
        }
      ]
    },
    {
      "cell_type": "markdown",
      "source": [
        "#building the first pytorch model\n",
        "\n"
      ],
      "metadata": {
        "id": "L5DeTF1D7vJP"
      }
    },
    {
      "cell_type": "code",
      "source": [
        "import torch\n",
        "from torch import nn\n",
        "\n",
        "\n",
        "#creating a linear regression model class\n",
        "\n",
        "class LinearRegressionModel(nn.Module): ##inheriting from nn.Module\n",
        "  def __init__(self):\n",
        "    super().__init__()\n",
        "    self.weights = nn.Parameter(torch.randn(1, requires_grad = True, dtype = torch.float32))\n",
        "    self.bias = nn.Parameter(torch.randn(1, requires_grad = True, dtype = torch.float32))\n",
        "\n",
        "\n",
        "    #forward pass for computation in the model\n",
        "  def forward(self, x: torch.Tensor) -> torch.Tensor: #'x' is the input data\n",
        "    return self.weights * x + self.bias\n"
      ],
      "metadata": {
        "id": "z2D54Ec7AQtY"
      },
      "execution_count": null,
      "outputs": []
    },
    {
      "cell_type": "markdown",
      "source": [
        "###python model building modules\n",
        "\n",
        "- torch.nn contains all the basic computational graph for building a nn\n",
        "- torch.nn.parameters: what parameters should our models try and learn, often a layer from torch.nn  will set these for us\n",
        "- torch.nn.Module: The base class for all neural network module, if you subclass it you sould overwrite the forward()\n",
        "- torch.optim: This is where the optimiser in the PTorch live and they will help with the gradient descent\n",
        "- def forward(): all nn.Module require you to overwrite forward(), this method defines what happens in the forward computation"
      ],
      "metadata": {
        "id": "qU99bGZhKU2i"
      }
    },
    {
      "cell_type": "markdown",
      "source": [
        "###Checking the content of the PyTorch Model\n",
        "\n",
        "since we have created a model lets check what is inside it\n",
        "\n",
        "we can do that using `.parameters()`"
      ],
      "metadata": {
        "id": "2rGnR2hn7imF"
      }
    },
    {
      "cell_type": "code",
      "source": [
        "torch.manual_seed(42)\n",
        "\n",
        "#create an instance of a model\n",
        "\n",
        "model_0 = LinearRegressionModel()\n",
        "\n",
        "#list out the parameters\n",
        "list(model_0.parameters())"
      ],
      "metadata": {
        "colab": {
          "base_uri": "https://localhost:8080/"
        },
        "id": "DyoDsYzi8Cly",
        "outputId": "eba01160-be5d-4f34-aaae-685fb71e8c35"
      },
      "execution_count": null,
      "outputs": [
        {
          "output_type": "execute_result",
          "data": {
            "text/plain": [
              "[Parameter containing:\n",
              " tensor([0.3367], requires_grad=True),\n",
              " Parameter containing:\n",
              " tensor([0.1288], requires_grad=True)]"
            ]
          },
          "metadata": {},
          "execution_count": 46
        }
      ]
    },
    {
      "cell_type": "markdown",
      "source": [
        "### making predictions using torch.inference_mode()\n",
        "\n",
        "To check our model's predictive power, let's see how model predicts y_pred based on X_test"
      ],
      "metadata": {
        "id": "emr9mAO99wBt"
      }
    },
    {
      "cell_type": "code",
      "source": [
        "with torch.inference_mode():\n",
        "  y_pred = model_0(X_test)\n",
        "\n",
        "y_pred"
      ],
      "metadata": {
        "colab": {
          "base_uri": "https://localhost:8080/"
        },
        "id": "A9tx6xtcAE99",
        "outputId": "dda86f97-390e-4891-804c-2204db0b51de"
      },
      "execution_count": null,
      "outputs": [
        {
          "output_type": "execute_result",
          "data": {
            "text/plain": [
              "tensor([[0.2163],\n",
              "        [0.3914],\n",
              "        [0.3308],\n",
              "        [0.4318],\n",
              "        [0.2433],\n",
              "        [0.4520],\n",
              "        [0.3039],\n",
              "        [0.2972],\n",
              "        [0.3443],\n",
              "        [0.2568]])"
            ]
          },
          "metadata": {},
          "execution_count": 49
        }
      ]
    },
    {
      "cell_type": "code",
      "source": [
        "plot_predictions(predictions = y_pred)\n",
        "#data is way off from where it is expected to be"
      ],
      "metadata": {
        "colab": {
          "base_uri": "https://localhost:8080/",
          "height": 599
        },
        "id": "nOac7naoCjTv",
        "outputId": "c841e903-45f6-45fd-9983-e7fe7788ee18"
      },
      "execution_count": null,
      "outputs": [
        {
          "output_type": "display_data",
          "data": {
            "text/plain": [
              "<Figure size 1000x700 with 1 Axes>"
            ],
            "image/png": "[encoded data removed]"
          },
          "metadata": {}
        }
      ]
    },
    {
      "cell_type": "code",
      "source": [
        "# no_grad is useful for making the predictions faster\n",
        "%%time\n",
        "with torch.no_grad():\n",
        "  y_pred = model_0(X_test)\n",
        "print(y_pred)"
      ],
      "metadata": {
        "colab": {
          "base_uri": "https://localhost:8080/"
        },
        "id": "KtC3Lm9qFHNv",
        "outputId": "c436f3b0-a577-42f6-c08c-3d80420a1545"
      },
      "execution_count": null,
      "outputs": [
        {
          "output_type": "stream",
          "name": "stdout",
          "text": [
            "tensor([[0.2163],\n",
            "        [0.3914],\n",
            "        [0.3308],\n",
            "        [0.4318],\n",
            "        [0.2433],\n",
            "        [0.4520],\n",
            "        [0.3039],\n",
            "        [0.2972],\n",
            "        [0.3443],\n",
            "        [0.2568]])\n",
            "CPU times: user 2.33 ms, sys: 0 ns, total: 2.33 ms\n",
            "Wall time: 4.5 ms\n"
          ]
        }
      ]
    },
    {
      "cell_type": "code",
      "source": [
        "# inference_mode() is useful for making the predictions even more faster\n",
        "%%time\n",
        "with torch.inference_mode():\n",
        "  y_pred = model_0(X_test)\n",
        "print(y_pred)"
      ],
      "metadata": {
        "colab": {
          "base_uri": "https://localhost:8080/"
        },
        "id": "q5iK2nooFVv6",
        "outputId": "ff26f9b1-510f-4528-b43c-45a38b494b62"
      },
      "execution_count": null,
      "outputs": [
        {
          "output_type": "stream",
          "name": "stdout",
          "text": [
            "tensor([[0.2163],\n",
            "        [0.3914],\n",
            "        [0.3308],\n",
            "        [0.4318],\n",
            "        [0.2433],\n",
            "        [0.4520],\n",
            "        [0.3039],\n",
            "        [0.2972],\n",
            "        [0.3443],\n",
            "        [0.2568]])\n",
            "CPU times: user 3.03 ms, sys: 0 ns, total: 3.03 ms\n",
            "Wall time: 5.82 ms\n"
          ]
        }
      ]
    },
    {
      "cell_type": "markdown",
      "source": [
        "#Train the model\n",
        "\n",
        "the idea is to moe the model from some *unknow* (random parameters) to some *known* parameters\n",
        "basically from a poor representation to a better representation\n",
        "\n",
        "one way to measurte the performance of the model is to use a loss function\n",
        "\n",
        "Things we need to traing the model:\n",
        "* **loss function** something to calculate the loss or how much the data is off by\n",
        "* **optimiser** something for the parameters to be adjusted so that the data can be modified for better predictions\n",
        "\n",
        "in pytorch we need a :\n",
        "⚫ training loop  and a testing loop\n"
      ],
      "metadata": {
        "id": "Q8L1CXUhFkyw"
      }
    },
    {
      "cell_type": "markdown",
      "source": [
        "`params` what all parameters you wnat the model to update\n",
        "\n",
        "`lr` how significant you want the learning rate to be or how big of a step you want to take to adjust the value"
      ],
      "metadata": {
        "id": "3wXHTKXXTU9D"
      }
    },
    {
      "cell_type": "code",
      "source": [
        "#using mean absolute error for calculation of loss\n",
        "loss_func = nn.L1Loss()\n",
        "loss_func\n",
        "\n",
        "#using stochastic gradient descent or SGD for optimisation of the tensors\n",
        "\n",
        "optimizer = torch.optim.SGD(params = model_0.parameters(), lr = 0.001)\n",
        "optimizer"
      ],
      "metadata": {
        "colab": {
          "base_uri": "https://localhost:8080/"
        },
        "id": "_4v-QdwfK2Q6",
        "outputId": "330c9347-cde7-4d1c-b709-99598f005592"
      },
      "execution_count": null,
      "outputs": [
        {
          "output_type": "execute_result",
          "data": {
            "text/plain": [
              "SGD (\n",
              "Parameter Group 0\n",
              "    dampening: 0\n",
              "    differentiable: False\n",
              "    foreach: None\n",
              "    fused: None\n",
              "    lr: 0.001\n",
              "    maximize: False\n",
              "    momentum: 0\n",
              "    nesterov: False\n",
              "    weight_decay: 0\n",
              ")"
            ]
          },
          "metadata": {},
          "execution_count": 55
        }
      ]
    },
    {
      "cell_type": "markdown",
      "source": [
        "## Building a trainnig and a testing loop in PyTorch\n",
        "\n",
        "there are 2 steps:\n",
        "\n",
        "0. Loop through the data\n",
        "1. forward pass (this  nvolves data moving forward)\n",
        "2. Calculate the loss (compare the forward pass predictions to ground truth trables)\n",
        "3. Optimizer zero grad\n",
        "4. Loss Backward - move backward int he network to calculate the gradients of the paameters with repect to the loss (**Backward propagation**)\n",
        "5. Optimizer step - use the optimizer to adjust the model parameters and improve the overall loss (**Gradient descent**)"
      ],
      "metadata": {
        "id": "s0c3sOdaTB6k"
      }
    },
    {
      "cell_type": "code",
      "source": [
        "# an Epoch is one loop through the data\n",
        "\n",
        "epoch = 200\n",
        "\n",
        "#tracking the values\n",
        "epoch_count = []\n",
        "loss_values = []\n",
        "test_loss_values = []\n",
        "\n",
        "#0. loop through the data\n",
        "for epoch in range(epoch):\n",
        "  #set the model to taining mode\n",
        "  model_0.train() # train mode sets all the parameters that require the gradients to require gradients\n",
        "\n",
        "  #forward Pass\n",
        "  y_pred = model_0(X_test) # get the predictions\n",
        "\n",
        "  #Calculate the loss\n",
        "  loss = loss_func(y_pred, y_test) # check how off the predictions are\n",
        "\n",
        "\n",
        "  #optimizer zero_grad\n",
        "  optimizer.zero_grad() # clear the gradient to prevent accumulation of grads\n",
        "\n",
        "  #perform back propagation on the parameters with respect to the parameters of the model\n",
        "  loss.backward() #calculate the gradient of the parameters with respect to the loss\n",
        "\n",
        "  #step the optimizer (perform gradient descent)\n",
        "  optimizer.step()# update the parameters with respect to the calculated gradient\n",
        "\n",
        " ##testing\n",
        "  model_0.eval() # turn off gradient tracking (drop out or batch norm)\n",
        "\n",
        "  with torch.inference_mode():\n",
        "    test_pred = model_0(X_test)\n",
        "\n",
        "    loss_test = loss_func(test_pred, y_test)\n",
        "  if epoch % 1 == 0:\n",
        "    epoch_count.append(epoch)\n",
        "    loss_values.append(loss)\n",
        "    test_loss_values.append(loss_test)\n",
        "    print(f\"epoch: {epoch} | Loss: {loss} | loss in test: {loss_test}\")\n",
        "\n",
        "\n"
      ],
      "metadata": {
        "colab": {
          "base_uri": "https://localhost:8080/"
        },
        "id": "RQRri2SyXQp8",
        "outputId": "61820b0e-cf71-4e66-9a25-988ac32910ca"
      },
      "execution_count": null,
      "outputs": [
        {
          "output_type": "stream",
          "name": "stdout",
          "text": [
            "epoch: 0 | Loss: 0.1156686320900917 | loss in test: 0.11432290077209473\n",
            "epoch: 1 | Loss: 0.11432290077209473 | loss in test: 0.11297718435525894\n",
            "epoch: 2 | Loss: 0.11297718435525894 | loss in test: 0.11163143813610077\n",
            "epoch: 3 | Loss: 0.11163143813610077 | loss in test: 0.11028573662042618\n",
            "epoch: 4 | Loss: 0.11028573662042618 | loss in test: 0.108939990401268\n",
            "epoch: 5 | Loss: 0.108939990401268 | loss in test: 0.10759426653385162\n",
            "epoch: 6 | Loss: 0.10759426653385162 | loss in test: 0.10624852031469345\n",
            "epoch: 7 | Loss: 0.10624852031469345 | loss in test: 0.10490278899669647\n",
            "epoch: 8 | Loss: 0.10490278899669647 | loss in test: 0.10355707257986069\n",
            "epoch: 9 | Loss: 0.10355707257986069 | loss in test: 0.10221131891012192\n",
            "epoch: 10 | Loss: 0.10221131891012192 | loss in test: 0.10086560249328613\n",
            "epoch: 11 | Loss: 0.10086560249328613 | loss in test: 0.09951987862586975\n",
            "epoch: 12 | Loss: 0.09951987862586975 | loss in test: 0.09817413985729218\n",
            "epoch: 13 | Loss: 0.09817413985729218 | loss in test: 0.0968284159898758\n",
            "epoch: 14 | Loss: 0.0968284159898758 | loss in test: 0.09548267722129822\n",
            "epoch: 15 | Loss: 0.09548267722129822 | loss in test: 0.09413694590330124\n",
            "epoch: 16 | Loss: 0.09413694590330124 | loss in test: 0.09279121458530426\n",
            "epoch: 17 | Loss: 0.09279121458530426 | loss in test: 0.09144549071788788\n",
            "epoch: 18 | Loss: 0.09144549071788788 | loss in test: 0.0900997668504715\n",
            "epoch: 19 | Loss: 0.0900997668504715 | loss in test: 0.08875402063131332\n",
            "epoch: 20 | Loss: 0.08875402063131332 | loss in test: 0.08740828931331635\n",
            "epoch: 21 | Loss: 0.08740828931331635 | loss in test: 0.08606256544589996\n",
            "epoch: 22 | Loss: 0.08606256544589996 | loss in test: 0.08471682667732239\n",
            "epoch: 23 | Loss: 0.08471682667732239 | loss in test: 0.0833711102604866\n",
            "epoch: 24 | Loss: 0.0833711102604866 | loss in test: 0.08202536404132843\n",
            "epoch: 25 | Loss: 0.08202536404132843 | loss in test: 0.08067964017391205\n",
            "epoch: 26 | Loss: 0.08067964017391205 | loss in test: 0.07933390885591507\n",
            "epoch: 27 | Loss: 0.07933390885591507 | loss in test: 0.07798817753791809\n",
            "epoch: 28 | Loss: 0.07798817753791809 | loss in test: 0.07664245367050171\n",
            "epoch: 29 | Loss: 0.07664245367050171 | loss in test: 0.07529670000076294\n",
            "epoch: 30 | Loss: 0.07529670000076294 | loss in test: 0.0740835890173912\n",
            "epoch: 31 | Loss: 0.0740835890173912 | loss in test: 0.07315628230571747\n",
            "epoch: 32 | Loss: 0.07315628230571747 | loss in test: 0.07222898304462433\n",
            "epoch: 33 | Loss: 0.07222898304462433 | loss in test: 0.07130167633295059\n",
            "epoch: 34 | Loss: 0.07130167633295059 | loss in test: 0.07037436962127686\n",
            "epoch: 35 | Loss: 0.07037436962127686 | loss in test: 0.06944706290960312\n",
            "epoch: 36 | Loss: 0.06944706290960312 | loss in test: 0.06851975619792938\n",
            "epoch: 37 | Loss: 0.06851975619792938 | loss in test: 0.06759245693683624\n",
            "epoch: 38 | Loss: 0.06759245693683624 | loss in test: 0.0666651576757431\n",
            "epoch: 39 | Loss: 0.0666651576757431 | loss in test: 0.06573785096406937\n",
            "epoch: 40 | Loss: 0.06573785096406937 | loss in test: 0.06481055915355682\n",
            "epoch: 41 | Loss: 0.06481055915355682 | loss in test: 0.06388325244188309\n",
            "epoch: 42 | Loss: 0.06388325244188309 | loss in test: 0.06295593082904816\n",
            "epoch: 43 | Loss: 0.06295593082904816 | loss in test: 0.06202862784266472\n",
            "epoch: 44 | Loss: 0.06202862784266472 | loss in test: 0.061101336032152176\n",
            "epoch: 45 | Loss: 0.061101336032152176 | loss in test: 0.060174018144607544\n",
            "epoch: 46 | Loss: 0.060174018144607544 | loss in test: 0.05924671143293381\n",
            "epoch: 47 | Loss: 0.05924671143293381 | loss in test: 0.05831940844655037\n",
            "epoch: 48 | Loss: 0.05831940844655037 | loss in test: 0.05742111802101135\n",
            "epoch: 49 | Loss: 0.05742111802101135 | loss in test: 0.05684209614992142\n",
            "epoch: 50 | Loss: 0.05684209614992142 | loss in test: 0.05626307800412178\n",
            "epoch: 51 | Loss: 0.05626307800412178 | loss in test: 0.05568404868245125\n",
            "epoch: 52 | Loss: 0.05568404868245125 | loss in test: 0.05510503053665161\n",
            "epoch: 53 | Loss: 0.05510503053665161 | loss in test: 0.05452600121498108\n",
            "epoch: 54 | Loss: 0.05452600121498108 | loss in test: 0.05394697189331055\n",
            "epoch: 55 | Loss: 0.05394697189331055 | loss in test: 0.05336796119809151\n",
            "epoch: 56 | Loss: 0.05336796119809151 | loss in test: 0.052788931876420975\n",
            "epoch: 57 | Loss: 0.052788931876420975 | loss in test: 0.05220990628004074\n",
            "epoch: 58 | Loss: 0.05220990628004074 | loss in test: 0.051630884408950806\n",
            "epoch: 59 | Loss: 0.051630884408950806 | loss in test: 0.05105186253786087\n",
            "epoch: 60 | Loss: 0.05105186253786087 | loss in test: 0.050625991076231\n",
            "epoch: 61 | Loss: 0.050625991076231 | loss in test: 0.050312340259552\n",
            "epoch: 62 | Loss: 0.050312340259552 | loss in test: 0.04999867081642151\n",
            "epoch: 63 | Loss: 0.04999867081642151 | loss in test: 0.049685001373291016\n",
            "epoch: 64 | Loss: 0.049685001373291016 | loss in test: 0.049371350556612015\n",
            "epoch: 65 | Loss: 0.049371350556612015 | loss in test: 0.04905768483877182\n",
            "epoch: 66 | Loss: 0.04905768483877182 | loss in test: 0.048744022846221924\n",
            "epoch: 67 | Loss: 0.048744022846221924 | loss in test: 0.048430345952510834\n",
            "epoch: 68 | Loss: 0.048430345952510834 | loss in test: 0.048116691410541534\n",
            "epoch: 69 | Loss: 0.048116691410541534 | loss in test: 0.04780302569270134\n",
            "epoch: 70 | Loss: 0.04780302569270134 | loss in test: 0.04748937487602234\n",
            "epoch: 71 | Loss: 0.04748937487602234 | loss in test: 0.047175705432891846\n",
            "epoch: 72 | Loss: 0.047175705432891846 | loss in test: 0.04686204344034195\n",
            "epoch: 73 | Loss: 0.04686204344034195 | loss in test: 0.046548373997211456\n",
            "epoch: 74 | Loss: 0.046548373997211456 | loss in test: 0.046234726905822754\n",
            "epoch: 75 | Loss: 0.046234726905822754 | loss in test: 0.045921050012111664\n",
            "epoch: 76 | Loss: 0.045921050012111664 | loss in test: 0.04560738056898117\n",
            "epoch: 77 | Loss: 0.04560738056898117 | loss in test: 0.04529373720288277\n",
            "epoch: 78 | Loss: 0.04529373720288277 | loss in test: 0.04498005658388138\n",
            "epoch: 79 | Loss: 0.04498005658388138 | loss in test: 0.044666409492492676\n",
            "epoch: 80 | Loss: 0.044666409492492676 | loss in test: 0.04435274004936218\n",
            "epoch: 81 | Loss: 0.04435274004936218 | loss in test: 0.044039078056812286\n",
            "epoch: 82 | Loss: 0.044039078056812286 | loss in test: 0.04372541978955269\n",
            "epoch: 83 | Loss: 0.04372541978955269 | loss in test: 0.043411750346422195\n",
            "epoch: 84 | Loss: 0.043411750346422195 | loss in test: 0.0430980809032917\n",
            "epoch: 85 | Loss: 0.0430980809032917 | loss in test: 0.04278441518545151\n",
            "epoch: 86 | Loss: 0.04278441518545151 | loss in test: 0.04247075319290161\n",
            "epoch: 87 | Loss: 0.04247075319290161 | loss in test: 0.042157094925642014\n",
            "epoch: 88 | Loss: 0.042157094925642014 | loss in test: 0.04184344410896301\n",
            "epoch: 89 | Loss: 0.04184344410896301 | loss in test: 0.04152977466583252\n",
            "epoch: 90 | Loss: 0.04152977466583252 | loss in test: 0.04121611639857292\n",
            "epoch: 91 | Loss: 0.04121611639857292 | loss in test: 0.04090244695544243\n",
            "epoch: 92 | Loss: 0.04090244695544243 | loss in test: 0.04058879613876343\n",
            "epoch: 93 | Loss: 0.04058879613876343 | loss in test: 0.04027509689331055\n",
            "epoch: 94 | Loss: 0.04027509689331055 | loss in test: 0.039961446076631546\n",
            "epoch: 95 | Loss: 0.039961446076631546 | loss in test: 0.039647750556468964\n",
            "epoch: 96 | Loss: 0.039647750556468964 | loss in test: 0.03933408856391907\n",
            "epoch: 97 | Loss: 0.03933408856391907 | loss in test: 0.039020419120788574\n",
            "epoch: 98 | Loss: 0.039020419120788574 | loss in test: 0.038706742227077484\n",
            "epoch: 99 | Loss: 0.038706742227077484 | loss in test: 0.03839306905865669\n",
            "epoch: 100 | Loss: 0.03839306905865669 | loss in test: 0.038079388439655304\n",
            "epoch: 101 | Loss: 0.038079388439655304 | loss in test: 0.03776571899652481\n",
            "epoch: 102 | Loss: 0.03776571899652481 | loss in test: 0.037518419325351715\n",
            "epoch: 103 | Loss: 0.037518419325351715 | loss in test: 0.037393152713775635\n",
            "epoch: 104 | Loss: 0.037393152713775635 | loss in test: 0.03726790100336075\n",
            "epoch: 105 | Loss: 0.03726790100336075 | loss in test: 0.03714262321591377\n",
            "epoch: 106 | Loss: 0.03714262321591377 | loss in test: 0.037017352879047394\n",
            "epoch: 107 | Loss: 0.037017352879047394 | loss in test: 0.03689209371805191\n",
            "epoch: 108 | Loss: 0.03689209371805191 | loss in test: 0.03676682710647583\n",
            "epoch: 109 | Loss: 0.03676682710647583 | loss in test: 0.036641549319028854\n",
            "epoch: 110 | Loss: 0.036641549319028854 | loss in test: 0.03651629760861397\n",
            "epoch: 111 | Loss: 0.03651629760861397 | loss in test: 0.03639103099703789\n",
            "epoch: 112 | Loss: 0.03639103099703789 | loss in test: 0.036265768110752106\n",
            "epoch: 113 | Loss: 0.036265768110752106 | loss in test: 0.03619789332151413\n",
            "epoch: 114 | Loss: 0.03619789332151413 | loss in test: 0.03616256266832352\n",
            "epoch: 115 | Loss: 0.03616256266832352 | loss in test: 0.03612722083926201\n",
            "epoch: 116 | Loss: 0.03612722083926201 | loss in test: 0.0360918752849102\n",
            "epoch: 117 | Loss: 0.0360918752849102 | loss in test: 0.036056529730558395\n",
            "epoch: 118 | Loss: 0.036056529730558395 | loss in test: 0.03602120280265808\n",
            "epoch: 119 | Loss: 0.03602120280265808 | loss in test: 0.035985857248306274\n",
            "epoch: 120 | Loss: 0.035985857248306274 | loss in test: 0.03595051169395447\n",
            "epoch: 121 | Loss: 0.03595051169395447 | loss in test: 0.03591516613960266\n",
            "epoch: 122 | Loss: 0.03591516613960266 | loss in test: 0.03587981313467026\n",
            "epoch: 123 | Loss: 0.03587981313467026 | loss in test: 0.03584447503089905\n",
            "epoch: 124 | Loss: 0.03584447503089905 | loss in test: 0.03580913692712784\n",
            "epoch: 125 | Loss: 0.03580913692712784 | loss in test: 0.035773783922195435\n",
            "epoch: 126 | Loss: 0.035773783922195435 | loss in test: 0.03573843836784363\n",
            "epoch: 127 | Loss: 0.03573843836784363 | loss in test: 0.03570309281349182\n",
            "epoch: 128 | Loss: 0.03570309281349182 | loss in test: 0.03566775470972061\n",
            "epoch: 129 | Loss: 0.03566775470972061 | loss in test: 0.03563242405653\n",
            "epoch: 130 | Loss: 0.03563242405653 | loss in test: 0.03559707850217819\n",
            "epoch: 131 | Loss: 0.03559707850217819 | loss in test: 0.03556172922253609\n",
            "epoch: 132 | Loss: 0.03556172922253609 | loss in test: 0.03552638739347458\n",
            "epoch: 133 | Loss: 0.03552638739347458 | loss in test: 0.035491056740283966\n",
            "epoch: 134 | Loss: 0.035491056740283966 | loss in test: 0.03545571491122246\n",
            "epoch: 135 | Loss: 0.03545571491122246 | loss in test: 0.035420358180999756\n",
            "epoch: 136 | Loss: 0.035420358180999756 | loss in test: 0.035385023802518845\n",
            "epoch: 137 | Loss: 0.035385023802518845 | loss in test: 0.03534967824816704\n",
            "epoch: 138 | Loss: 0.03534967824816704 | loss in test: 0.03531433269381523\n",
            "epoch: 139 | Loss: 0.03531433269381523 | loss in test: 0.035278987139463425\n",
            "epoch: 140 | Loss: 0.035278987139463425 | loss in test: 0.03524366021156311\n",
            "epoch: 141 | Loss: 0.03524366021156311 | loss in test: 0.03520830720663071\n",
            "epoch: 142 | Loss: 0.03520830720663071 | loss in test: 0.035172950476408005\n",
            "epoch: 143 | Loss: 0.035172950476408005 | loss in test: 0.03513762354850769\n",
            "epoch: 144 | Loss: 0.03513762354850769 | loss in test: 0.03510228544473648\n",
            "epoch: 145 | Loss: 0.03510228544473648 | loss in test: 0.03506693243980408\n",
            "epoch: 146 | Loss: 0.03506693243980408 | loss in test: 0.03503158688545227\n",
            "epoch: 147 | Loss: 0.03503158688545227 | loss in test: 0.03499624878168106\n",
            "epoch: 148 | Loss: 0.03499624878168106 | loss in test: 0.034960903227329254\n",
            "epoch: 149 | Loss: 0.034960903227329254 | loss in test: 0.034925561398267746\n",
            "epoch: 150 | Loss: 0.034925561398267746 | loss in test: 0.034890223294496536\n",
            "epoch: 151 | Loss: 0.034890223294496536 | loss in test: 0.03485488146543503\n",
            "epoch: 152 | Loss: 0.03485488146543503 | loss in test: 0.03481953218579292\n",
            "epoch: 153 | Loss: 0.03481953218579292 | loss in test: 0.034784190356731415\n",
            "epoch: 154 | Loss: 0.034784190356731415 | loss in test: 0.0347488634288311\n",
            "epoch: 155 | Loss: 0.0347488634288311 | loss in test: 0.0347135066986084\n",
            "epoch: 156 | Loss: 0.0347135066986084 | loss in test: 0.03467817232012749\n",
            "epoch: 157 | Loss: 0.03467817232012749 | loss in test: 0.03464282676577568\n",
            "epoch: 158 | Loss: 0.03464282676577568 | loss in test: 0.034607481211423874\n",
            "epoch: 159 | Loss: 0.034607481211423874 | loss in test: 0.03457213565707207\n",
            "epoch: 160 | Loss: 0.03457213565707207 | loss in test: 0.03453679755330086\n",
            "epoch: 161 | Loss: 0.03453679755330086 | loss in test: 0.03450145199894905\n",
            "epoch: 162 | Loss: 0.03450145199894905 | loss in test: 0.03446609899401665\n",
            "epoch: 163 | Loss: 0.03446609899401665 | loss in test: 0.03443076089024544\n",
            "epoch: 164 | Loss: 0.03443076089024544 | loss in test: 0.034395426511764526\n",
            "epoch: 165 | Loss: 0.034395426511764526 | loss in test: 0.03436008840799332\n",
            "epoch: 166 | Loss: 0.03436008840799332 | loss in test: 0.03432474285364151\n",
            "epoch: 167 | Loss: 0.03432474285364151 | loss in test: 0.0342893972992897\n",
            "epoch: 168 | Loss: 0.0342893972992897 | loss in test: 0.03425406664609909\n",
            "epoch: 169 | Loss: 0.03425406664609909 | loss in test: 0.034218721091747284\n",
            "epoch: 170 | Loss: 0.034218721091747284 | loss in test: 0.03418337553739548\n",
            "epoch: 171 | Loss: 0.03418337553739548 | loss in test: 0.03414802998304367\n",
            "epoch: 172 | Loss: 0.03414802998304367 | loss in test: 0.034112680703401566\n",
            "epoch: 173 | Loss: 0.034112680703401566 | loss in test: 0.03407733887434006\n",
            "epoch: 174 | Loss: 0.03407733887434006 | loss in test: 0.03404200077056885\n",
            "epoch: 175 | Loss: 0.03404200077056885 | loss in test: 0.034006647765636444\n",
            "epoch: 176 | Loss: 0.034006647765636444 | loss in test: 0.03397130221128464\n",
            "epoch: 177 | Loss: 0.03397130221128464 | loss in test: 0.03393595665693283\n",
            "epoch: 178 | Loss: 0.03393595665693283 | loss in test: 0.03390061855316162\n",
            "epoch: 179 | Loss: 0.03390061855316162 | loss in test: 0.03386529162526131\n",
            "epoch: 180 | Loss: 0.03386529162526131 | loss in test: 0.0338299460709095\n",
            "epoch: 181 | Loss: 0.0338299460709095 | loss in test: 0.0337945930659771\n",
            "epoch: 182 | Loss: 0.0337945930659771 | loss in test: 0.03375925496220589\n",
            "epoch: 183 | Loss: 0.03375925496220589 | loss in test: 0.033723920583724976\n",
            "epoch: 184 | Loss: 0.033723920583724976 | loss in test: 0.033688582479953766\n",
            "epoch: 185 | Loss: 0.033688582479953766 | loss in test: 0.033653222024440765\n",
            "epoch: 186 | Loss: 0.033653222024440765 | loss in test: 0.03361789137125015\n",
            "epoch: 187 | Loss: 0.03361789137125015 | loss in test: 0.033582545816898346\n",
            "epoch: 188 | Loss: 0.033582545816898346 | loss in test: 0.03354720026254654\n",
            "epoch: 189 | Loss: 0.03354720026254654 | loss in test: 0.03351185843348503\n",
            "epoch: 190 | Loss: 0.03351185843348503 | loss in test: 0.03347652405500412\n",
            "epoch: 191 | Loss: 0.03347652405500412 | loss in test: 0.033441174775362015\n",
            "epoch: 192 | Loss: 0.033441174775362015 | loss in test: 0.03340581804513931\n",
            "epoch: 193 | Loss: 0.03340581804513931 | loss in test: 0.0333704836666584\n",
            "epoch: 194 | Loss: 0.0333704836666584 | loss in test: 0.03333514183759689\n",
            "epoch: 195 | Loss: 0.03333514183759689 | loss in test: 0.03329979628324509\n",
            "epoch: 196 | Loss: 0.03329979628324509 | loss in test: 0.03326445072889328\n",
            "epoch: 197 | Loss: 0.03326445072889328 | loss in test: 0.03322911262512207\n",
            "epoch: 198 | Loss: 0.03322911262512207 | loss in test: 0.033193767070770264\n",
            "epoch: 199 | Loss: 0.033193767070770264 | loss in test: 0.033158428966999054\n"
          ]
        }
      ]
    },
    {
      "cell_type": "code",
      "source": [
        "#initial values of the parameters\n",
        "model_0.state_dict()"
      ],
      "metadata": {
        "colab": {
          "base_uri": "https://localhost:8080/"
        },
        "id": "NP4yPy0xJ9d9",
        "outputId": "740370f6-e93c-4bd8-97d1-04ee8ffe651f"
      },
      "execution_count": null,
      "outputs": [
        {
          "output_type": "execute_result",
          "data": {
            "text/plain": [
              "OrderedDict([('weights', tensor([0.4543])), ('bias', tensor([0.3288]))])"
            ]
          },
          "metadata": {},
          "execution_count": 57
        }
      ]
    },
    {
      "cell_type": "code",
      "source": [
        "with torch.inference_mode():\n",
        "  predictions = model_0(X_test)\n",
        "\n",
        "plot_predictions(predictions = predictions)"
      ],
      "metadata": {
        "colab": {
          "base_uri": "https://localhost:8080/",
          "height": 599
        },
        "id": "0upP0YzKLrRE",
        "outputId": "eb7940dd-1997-47a6-bd35-1ef246e72c8f"
      },
      "execution_count": null,
      "outputs": [
        {
          "output_type": "display_data",
          "data": {
            "text/plain": [
              "<Figure size 1000x700 with 1 Axes>"
            ],
            "image/png": "[encoded data removed]"
          },
          "metadata": {}
        }
      ]
    },
    {
      "cell_type": "markdown",
      "source": [],
      "metadata": {
        "id": "YOpJWnY1WrHC"
      }
    },
    {
      "cell_type": "code",
      "source": [
        "import numpy as np\n",
        "plt.plot(epoch_count, np.array(torch.Tensor.numpy(torch.tensor(loss_values))), label = 'Train loss')\n",
        "plt.plot(epoch_count, np.array(torch.Tensor.numpy(torch.tensor(test_loss_values))), label = 'Test loss')\n",
        "plt.legend()"
      ],
      "metadata": {
        "colab": {
          "base_uri": "https://localhost:8080/",
          "height": 448
        },
        "id": "slb1gGJfai83",
        "outputId": "aa50c5a7-893c-42c7-a243-1f049f8be9a9"
      },
      "execution_count": null,
      "outputs": [
        {
          "output_type": "execute_result",
          "data": {
            "text/plain": [
              "<matplotlib.legend.Legend at 0x7fe45c55fb20>"
            ]
          },
          "metadata": {},
          "execution_count": 61
        },
        {
          "output_type": "display_data",
          "data": {
            "text/plain": [
              "<Figure size 640x480 with 1 Axes>"
            ],
            "image/png": "[encoded data removed]"
          },
          "metadata": {}
        }
      ]
    },
    {
      "cell_type": "markdown",
      "source": [
        "##Saving a model in pytorch\n",
        "\n",
        "Three ways for saving and loading model in PyTorch\n",
        "\n",
        "`torch.save()` saves in the form of python's pikle format\n",
        "\n",
        "`torch.load()` allows you to load the saved model\n",
        "\n",
        "`torch.nn.Modeule.load_state_dict()` allows us to load model's saved state dictionary"
      ],
      "metadata": {
        "id": "x8Vwy6RakguM"
      }
    },
    {
      "cell_type": "code",
      "source": [
        "model_0.state_dict()"
      ],
      "metadata": {
        "colab": {
          "base_uri": "https://localhost:8080/"
        },
        "id": "vkChv2ZolOiU",
        "outputId": "06eb8c65-d062-42cd-e57b-f511c4e2c868"
      },
      "execution_count": null,
      "outputs": [
        {
          "output_type": "execute_result",
          "data": {
            "text/plain": [
              "OrderedDict([('weights', tensor([0.5236])), ('bias', tensor([0.4004]))])"
            ]
          },
          "metadata": {},
          "execution_count": 64
        }
      ]
    },
    {
      "cell_type": "code",
      "source": [
        "#lets save the current state dict of the model\n",
        "from pathlib import Path\n",
        "\n",
        "#create a model directory\n",
        "MODEL_PATH = Path(\"models\")\n",
        "MODEL_PATH.mkdir(parents = True, exist_ok = True)\n",
        "\n",
        "#model save path\n",
        "MODEL_NAME = \"LinearRegression.pth\"\n",
        "MODEL_SAVE_PATH = MODEL_PATH / MODEL_NAME\n",
        "MODEL_SAVE_PATH\n",
        "\n",
        "#save the model's state dict\n",
        "print(f\"Saving model to: {MODEL_SAVE_PATH}\")\n",
        "torch.save(obj = model_0.state_dict(), f = MODEL_SAVE_PATH)"
      ],
      "metadata": {
        "colab": {
          "base_uri": "https://localhost:8080/"
        },
        "id": "DVicNvfhlQvh",
        "outputId": "d60d682c-992f-4599-eac1-e9a536286382"
      },
      "execution_count": null,
      "outputs": [
        {
          "output_type": "stream",
          "name": "stdout",
          "text": [
            "Saving model to: models/LinearRegression.pth\n"
          ]
        }
      ]
    },
    {
      "cell_type": "code",
      "source": [
        "!ls -l models"
      ],
      "metadata": {
        "colab": {
          "base_uri": "https://localhost:8080/"
        },
        "id": "sjsYAQIom2HD",
        "outputId": "f6a1177d-0261-413a-d468-0eb912423e13"
      },
      "execution_count": null,
      "outputs": [
        {
          "output_type": "stream",
          "name": "stdout",
          "text": [
            "total 4\n",
            "-rw-r--r-- 1 root root 1550 Jan  4 04:40 LinearRegression.pth\n"
          ]
        }
      ]
    },
    {
      "cell_type": "markdown",
      "source": [
        "## loading the state dict of the model\n",
        "\n",
        "since we have stored the state dict of the model we need to initialise the model and put the state_dict onto the model"
      ],
      "metadata": {
        "id": "iA2QjN7vnyiS"
      }
    },
    {
      "cell_type": "code",
      "source": [
        "#to load in a saved state dict we need to instantiate our model class\n",
        "\n",
        "loaded_model_0 = LinearRegressionModel()"
      ],
      "metadata": {
        "id": "WG-xFSgjop1k"
      },
      "execution_count": null,
      "outputs": []
    },
    {
      "cell_type": "code",
      "source": [
        "loaded_model_0.state_dict()"
      ],
      "metadata": {
        "colab": {
          "base_uri": "https://localhost:8080/"
        },
        "id": "Ja1enJ_QpEEx",
        "outputId": "fee64416-2998-4003-9a45-b96829aa00fb"
      },
      "execution_count": null,
      "outputs": [
        {
          "output_type": "execute_result",
          "data": {
            "text/plain": [
              "OrderedDict([('weights', tensor([0.2345])), ('bias', tensor([0.2303]))])"
            ]
          },
          "metadata": {},
          "execution_count": 70
        }
      ]
    },
    {
      "cell_type": "code",
      "source": [
        "loaded_model_0.load_state_dict(torch.load(f = \"models/LinearRegression.pth\"))"
      ],
      "metadata": {
        "colab": {
          "base_uri": "https://localhost:8080/"
        },
        "id": "zTiRumEkpGZB",
        "outputId": "3bfc58d3-29d4-4d6e-ad61-56117ebc23ff"
      },
      "execution_count": null,
      "outputs": [
        {
          "output_type": "stream",
          "name": "stderr",
          "text": [
            "<ipython-input-71-0ed83b70ae63>:1: FutureWarning: You are using `torch.load` with `weights_only=False` (the current default value), which uses the default pickle module implicitly. It is possible to construct malicious pickle data which will execute arbitrary code during unpickling (See https://github.com/pytorch/pytorch/blob/main/SECURITY.md#untrusted-models for more details). In a future release, the default value for `weights_only` will be flipped to `True`. This limits the functions that could be executed during unpickling. Arbitrary objects will no longer be allowed to be loaded via this mode unless they are explicitly allowlisted by the user via `torch.serialization.add_safe_globals`. We recommend you start setting `weights_only=True` for any use case where you don't have full control of the loaded file. Please open an issue on GitHub for any issues related to this experimental feature.\n",
            "  loaded_model_0.load_state_dict(torch.load(f = \"models/LinearRegression.pth\"))\n"
          ]
        },
        {
          "output_type": "execute_result",
          "data": {
            "text/plain": [
              "<All keys matched successfully>"
            ]
          },
          "metadata": {},
          "execution_count": 71
        }
      ]
    },
    {
      "cell_type": "code",
      "source": [
        "y_preds = model_0(X_test)"
      ],
      "metadata": {
        "id": "p20C-Yfxpn1L"
      },
      "execution_count": null,
      "outputs": []
    },
    {
      "cell_type": "code",
      "source": [
        "##checking if the model loaded successfully\n",
        "loaded_model_0.eval()\n",
        "with torch.inference_mode():\n",
        "  loaded_pred = loaded_model_0(X_test)"
      ],
      "metadata": {
        "id": "U2xbRpTLqG_4"
      },
      "execution_count": null,
      "outputs": []
    },
    {
      "cell_type": "code",
      "source": [
        "y_preds == loaded_pred"
      ],
      "metadata": {
        "colab": {
          "base_uri": "https://localhost:8080/"
        },
        "id": "0wddokMiqHv7",
        "outputId": "03d61aca-c77d-4cd8-ba76-13fbca40fb5e"
      },
      "execution_count": null,
      "outputs": [
        {
          "output_type": "execute_result",
          "data": {
            "text/plain": [
              "tensor([[True],\n",
              "        [True],\n",
              "        [True],\n",
              "        [True],\n",
              "        [True],\n",
              "        [True],\n",
              "        [True],\n",
              "        [True],\n",
              "        [True],\n",
              "        [True]])"
            ]
          },
          "metadata": {},
          "execution_count": 78
        }
      ]
    }
  ]
}